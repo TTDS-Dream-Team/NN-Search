{
 "cells": [
  {
   "cell_type": "code",
   "execution_count": 1,
   "id": "departmental-variety",
   "metadata": {},
   "outputs": [],
   "source": [
    "import numpy as np\n",
    "from tqdm import tqdm\n",
    "import timeit\n",
    "np.random.seed(1)"
   ]
  },
  {
   "cell_type": "code",
   "execution_count": 2,
   "id": "revised-shark",
   "metadata": {},
   "outputs": [],
   "source": [
    "#\n",
    "# LSH used to build LSH hash table\n",
    "#\n",
    "\n",
    "class LSH:\n",
    "    def __init__(self, input_dim=3, hash_dim=1):\n",
    "        self.planes = []\n",
    "        for i in range(hash_dim):\n",
    "            v = np.random.rand(input_dim)\n",
    "            v_hat = v / np.linalg.norm(v)\n",
    "            self.planes.append(v_hat)\n",
    "    \n",
    "        self.planes = np.matrix(self.planes)\n",
    "        self.buckets = dict()\n",
    "    \n",
    "    # Returns LSH of a vector\n",
    "    def hash(self, vector):\n",
    "        hash_vector = np.where((self.planes @ vector) < 0, 1, 0)[0]\n",
    "        \n",
    "        hash_string = \"\".join([str(num) for num in hash_vector])\n",
    "        return hash_string\n",
    "    \n",
    "    # Add vector to bucket\n",
    "    def add(self, vector):\n",
    "        hashed = self.hash(vector)\n",
    "        \n",
    "        if hashed in self.buckets:\n",
    "            self.buckets[hashed].append(vector)\n",
    "        else:\n",
    "            self.buckets[hashed] = [vector]\n",
    "    \n",
    "    # Returns bucket vector is in\n",
    "    def get(self, vector):\n",
    "        hashed = self.hash(vector)\n",
    "        \n",
    "        if hashed in self.buckets:\n",
    "            return self.buckets[hashed]\n",
    "        \n",
    "        return []\n",
    "        "
   ]
  },
  {
   "cell_type": "code",
   "execution_count": 3,
   "id": "combined-correction",
   "metadata": {},
   "outputs": [],
   "source": [
    "#\n",
    "# Nearest Neighbour operations\n",
    "#\n",
    "\n",
    "class NN():\n",
    "    \n",
    "    # Returns Euclidean distance between vectors\n",
    "    def _distance_(self, v1, v2):\n",
    "        return np.linalg.norm(v1-v2)\n",
    "    \n",
    "    # Returns v1's Nearest Neighbour in vectors\n",
    "    def get_nn(self, v1, vectors):\n",
    "        min_dist = float(\"inf\")\n",
    "        min_vec = None\n",
    "        \n",
    "        for v2 in vectors:\n",
    "            dist = self._distance_(v1, v2)\n",
    "            if dist < min_dist:\n",
    "                min_dist = dist\n",
    "                min_vec = v2\n",
    "        \n",
    "        return min_vec    "
   ]
  },
  {
   "cell_type": "code",
   "execution_count": 4,
   "id": "expired-canadian",
   "metadata": {},
   "outputs": [],
   "source": [
    "input_dim = 726\n",
    "lsh = LSH(input_dim=input_dim, hash_dim=6)"
   ]
  },
  {
   "cell_type": "code",
   "execution_count": 5,
   "id": "enhanced-accordance",
   "metadata": {},
   "outputs": [],
   "source": [
    "nn = NN()"
   ]
  },
  {
   "cell_type": "code",
   "execution_count": 6,
   "id": "distant-complaint",
   "metadata": {},
   "outputs": [
    {
     "output_type": "stream",
     "name": "stderr",
     "text": [
      "100%|██████████| 1000000/1000000 [01:08<00:00, 14683.22it/s]\n"
     ]
    }
   ],
   "source": [
    "vectors = []\n",
    "\n",
    "for i in tqdm(range(1000000)):\n",
    "    v = np.random.uniform(-1,1, [input_dim])\n",
    "    lsh.add(v)\n",
    "    vectors.append(v)"
   ]
  },
  {
   "cell_type": "code",
   "execution_count": 7,
   "id": "configured-mixer",
   "metadata": {
    "tags": []
   },
   "outputs": [
    {
     "output_type": "stream",
     "name": "stdout",
     "text": [
      "Full vector list size: 1000000\n",
      "Bucket Size: 247421 (24.7421%)\n",
      "Actual Nearest Neighbour: , time: 9.48607598200033\n",
      "Bucket Nearest Neighbour: , time: 2.3659151309984736\n",
      "0.0\n"
     ]
    }
   ],
   "source": [
    "v1  = np.random.uniform(-1,1, [input_dim])\n",
    "\n",
    "bucket_vectors = lsh.get(v1)\n",
    "\n",
    "print(\"Full vector list size: \" + str(len(vectors)))\n",
    "print(\"Bucket Size: \" + str(len(bucket_vectors)) + \" (\"+ str(100 * len(bucket_vectors)/len(vectors)) +\"%)\")\n",
    "\n",
    "# Find Nearest Neighbour in entire dataset w/ execution time\n",
    "starttime = timeit.default_timer()\n",
    "nn1 = nn.get_nn(v1, vectors)\n",
    "print(\"Actual Nearest Neighbour: \"  + \", time: \" + str(timeit.default_timer() - starttime))\n",
    "\n",
    "# Find Nearest Neighbour in LSH hash bucket w/ execution time\n",
    "starttime = timeit.default_timer()\n",
    "nn2 = nn.get_nn(v1, bucket_vectors)\n",
    "print(\"Bucket Nearest Neighbour: \" + \", time: \" + str(timeit.default_timer() - starttime))\n",
    "\n",
    "print(nn._distance_(nn1,nn2))"
   ]
  },
  {
   "cell_type": "code",
   "execution_count": 8,
   "metadata": {},
   "outputs": [
    {
     "output_type": "stream",
     "name": "stdout",
     "text": [
      "21.302559324256993\n20.594564353500193\n19.93223626731763\n"
     ]
    }
   ],
   "source": [
    "print(nn._distance_(nn1,nn2))\n",
    "print(nn._distance_(v1,nn2))\n",
    "print(nn._distance_(nn1,v1))"
   ]
  }
 ],
 "metadata": {
  "kernelspec": {
   "name": "Python 3.6.12 64-bit ('ttds': conda)",
   "display_name": "Python 3.6.12 64-bit ('ttds': conda)",
   "metadata": {
    "interpreter": {
     "hash": "d8aacbc5f9f3e34022e27ff16a59078f709ad91e5ace10c21f2666e4cf0631cc"
    }
   }
  },
  "language_info": {
   "codemirror_mode": {
    "name": "ipython",
    "version": 3
   },
   "file_extension": ".py",
   "mimetype": "text/x-python",
   "name": "python",
   "nbconvert_exporter": "python",
   "pygments_lexer": "ipython3",
   "version": "3.6.12-final"
  }
 },
 "nbformat": 4,
 "nbformat_minor": 5
}