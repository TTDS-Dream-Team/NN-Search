{
 "cells": [
  {
   "cell_type": "code",
   "execution_count": 1,
   "metadata": {},
   "outputs": [],
   "source": [
    "import numpy as np\n",
    "from tqdm import tqdm\n",
    "import timeit\n",
    "np.random.seed(1)"
   ]
  },
  {
   "cell_type": "code",
   "execution_count": 2,
   "metadata": {},
   "outputs": [],
   "source": [
    "#\n",
    "# LSH used to build LSH hash table\n",
    "#\n",
    "\n",
    "class LSH:\n",
    "    def __init__(self, input_dim=3, hash_dim=1):\n",
    "        self.planes = []\n",
    "        for i in range(hash_dim):\n",
    "            v = np.random.rand(input_dim)\n",
    "            v_hat = v / np.linalg.norm(v)\n",
    "            self.planes.append(v_hat)\n",
    "    \n",
    "        self.planes = np.matrix(self.planes)\n",
    "        self.buckets = dict()\n",
    "    \n",
    "    # Returns LSH of a vector\n",
    "    def hash(self, vector):\n",
    "        hash_vector = np.where((self.planes @ vector) < 0, 1, 0)[0]\n",
    "        \n",
    "        hash_string = \"\".join([str(num) for num in hash_vector])\n",
    "        return hash_string\n",
    "    \n",
    "    # Add vector to bucket\n",
    "    def add(self, vector):\n",
    "        hashed = self.hash(vector)\n",
    "        \n",
    "        if hashed in self.buckets:\n",
    "            self.buckets[hashed].append(vector)\n",
    "        else:\n",
    "            self.buckets[hashed] = [vector]\n",
    "    \n",
    "    # Returns bucket vector is in\n",
    "    def get(self, vector):\n",
    "        hashed = self.hash(vector)\n",
    "        \n",
    "        if hashed in self.buckets:\n",
    "            return self.buckets[hashed]\n",
    "        \n",
    "        return []\n",
    "        "
   ]
  },
  {
   "cell_type": "code",
   "execution_count": 43,
   "metadata": {},
   "outputs": [],
   "source": [
    "#\n",
    "# Nearest Neighbour operations\n",
    "#\n",
    "\n",
    "class NN():\n",
    "    \n",
    "    # Returns Euclidean distance between vectors\n",
    "    def _distance_(self, v1, v2):\n",
    "        return np.linalg.norm(v1-v2)\n",
    "\n",
    "    def _matrix_distance_(self, v1, matrix):\n",
    "        v1 = np.array([v1])\n",
    "\n",
    "        p1 = np.sum(v1**2, axis=1)[:, np.newaxis]\n",
    "        p2 = np.sum(matrix**2, axis=1)\n",
    "        p3 =  -2 * np.dot(v1, matrix.T)\n",
    "\n",
    "        return p1 + p2 + p3\n",
    "    \n",
    "    # Returns v1's Nearest Neighbour in vectors\n",
    "    def get_nn(self, v1, vectors):\n",
    "        min_dist = float(\"inf\")\n",
    "        min_vec = None\n",
    "        \n",
    "        for v2 in vectors:\n",
    "            dist = self._distance_(v1, v2)\n",
    "            if dist < min_dist:\n",
    "                min_dist = dist\n",
    "                min_vec = v2\n",
    "        \n",
    "        return min_vec\n",
    "\n",
    "    def get_k_nn(self, v1, vectors, k=10):\n",
    "        dists = nn._matrix_distance_(v1, vectors)\n",
    "        top_k = np.argsort(dists, axis=1)[0,:k]\n",
    "            \n",
    "#         print(len(top_k))\n",
    "#         print(top_k[0])\n",
    "#         print(vectors.shape)\n",
    "        \n",
    "        return vectors[top_k[:],:]\n",
    "        "
   ]
  },
  {
   "cell_type": "code",
   "execution_count": 4,
   "metadata": {},
   "outputs": [],
   "source": [
    "input_dim = 726\n",
    "lsh = LSH(input_dim=input_dim, hash_dim=6)"
   ]
  },
  {
   "cell_type": "code",
   "execution_count": 45,
   "metadata": {},
   "outputs": [],
   "source": [
    "nn = NN()"
   ]
  },
  {
   "cell_type": "code",
   "execution_count": 6,
   "metadata": {},
   "outputs": [
    {
     "name": "stderr",
     "output_type": "stream",
     "text": [
      "100%|██████████| 100000/100000 [00:06<00:00, 15959.66it/s]\n"
     ]
    }
   ],
   "source": [
    "vectors = []\n",
    "\n",
    "for i in tqdm(range(100000)):\n",
    "    v = np.random.uniform(-1,1, [input_dim])\n",
    "    lsh.add(v)\n",
    "    vectors.append(v)"
   ]
  },
  {
   "cell_type": "code",
   "execution_count": 48,
   "metadata": {
    "tags": []
   },
   "outputs": [
    {
     "name": "stdout",
     "output_type": "stream",
     "text": [
      "Full vector list size: 100000\n",
      "Bucket Size: 24621 (24.621%)\n",
      "Actual Nearest Neighbour: , time: 0.9761296160004349\n",
      "Bucket Nearest Neighbour: , time: 0.24653854200005298\n",
      "Matrix Bucket Nearest Neighbour: , time: 0.058122972999626654\n",
      "21.073012388401608\n"
     ]
    }
   ],
   "source": [
    "#v1  = np.random.uniform(-1,1, [input_dim])\n",
    "\n",
    "bucket_vectors = lsh.get(v1)\n",
    "\n",
    "print(\"Full vector list size: \" + str(len(vectors)))\n",
    "print(\"Bucket Size: \" + str(len(bucket_vectors)) + \" (\"+ str(100 * len(bucket_vectors)/len(vectors)) +\"%)\")\n",
    "\n",
    "# Find Nearest Neighbour in entire dataset w/ execution time\n",
    "starttime = timeit.default_timer()\n",
    "nn1 = nn.get_nn(v1, vectors)\n",
    "print(\"Actual Nearest Neighbour: \"  + \", time: \" + str(timeit.default_timer() - starttime))\n",
    "\n",
    "# Find Nearest Neighbour in LSH hash bucket w/ execution time\n",
    "starttime = timeit.default_timer()\n",
    "nn2 = nn.get_nn(v1, bucket_vectors)\n",
    "print(\"Bucket Nearest Neighbour: \" + \", time: \" + str(timeit.default_timer() - starttime))\n",
    "\n",
    "# Find Nearest Neighbour in LSH hash bucket w/ execution time\n",
    "matrix = np.array(bucket_vectors)\n",
    "starttime = timeit.default_timer()\n",
    "nn3 = nn.get_k_nn(v1, matrix, 1)\n",
    "print(\"Matrix Bucket Nearest Neighbour: \" + \", time: \" + str(timeit.default_timer() - starttime))\n",
    "\n",
    "print(nn._distance_(nn3,nn1))"
   ]
  },
  {
   "cell_type": "code",
   "execution_count": 8,
   "metadata": {},
   "outputs": [
    {
     "name": "stdout",
     "output_type": "stream",
     "text": [
      "21.785424418271397\n",
      "20.300550404032982\n",
      "19.619099894158204\n"
     ]
    }
   ],
   "source": [
    "print(nn._distance_(nn1,nn2))\n",
    "print(nn._distance_(v1,nn2))\n",
    "print(nn._distance_(nn1,v1))"
   ]
  },
  {
   "cell_type": "code",
   "execution_count": 9,
   "metadata": {},
   "outputs": [
    {
     "data": {
      "text/plain": [
       "(100000, 726)"
      ]
     },
     "execution_count": 9,
     "metadata": {},
     "output_type": "execute_result"
    }
   ],
   "source": [
    "np.array(vectors).shape"
   ]
  },
  {
   "cell_type": "code",
   "execution_count": 42,
   "metadata": {
    "tags": []
   },
   "outputs": [
    {
     "name": "stdout",
     "output_type": "stream",
     "text": [
      "[[398.79042678]]\n",
      "Matrix distance time: 0.24450569600048766\n",
      "398.79042678111676\n",
      "Original distance time: 1.089641475999997\n"
     ]
    }
   ],
   "source": [
    "### Testing the matrix euclidean distance\n",
    "\n",
    "\n",
    "v = np.array(v1)\n",
    "matrix = np.array(vectors)\n",
    "\n",
    "starttime = timeit.default_timer()\n",
    "dists = nn._matrix_distance_(v, matrix)\n",
    "top_3 = np.argsort(dists, axis=1)[0,:1]\n",
    "#print(top_3[0])\n",
    "print(dists[:,top_3[:]])\n",
    "print(\"Matrix distance time: \" + str(timeit.default_timer() - starttime))\n",
    "\n",
    "\n",
    "starttime = timeit.default_timer()\n",
    "min_dist = float(\"inf\")\n",
    "min_vec = None\n",
    "for v2 in vectors:\n",
    "    dist = nn._distance_(v1, v2)\n",
    "    if dist < min_dist:\n",
    "        min_dist = dist\n",
    "        min_vec = v2\n",
    "\n",
    "print(min_dist ** 2)\n",
    "print(\"Original distance time: \" + str(timeit.default_timer() - starttime))"
   ]
  },
  {
   "cell_type": "code",
   "execution_count": null,
   "metadata": {},
   "outputs": [],
   "source": []
  }
 ],
 "metadata": {
  "kernelspec": {
   "display_name": "Python 3",
   "language": "python",
   "name": "python3"
  },
  "language_info": {
   "codemirror_mode": {
    "name": "ipython",
    "version": 3
   },
   "file_extension": ".py",
   "mimetype": "text/x-python",
   "name": "python",
   "nbconvert_exporter": "python",
   "pygments_lexer": "ipython3",
   "version": "3.8.5"
  }
 },
 "nbformat": 4,
 "nbformat_minor": 5
}
